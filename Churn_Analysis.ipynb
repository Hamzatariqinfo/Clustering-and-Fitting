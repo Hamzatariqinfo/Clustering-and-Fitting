{
 "cells": [
  {
   "cell_type": "markdown",
   "id": "31722708-209a-4372-861b-6aedb850cf64",
   "metadata": {
    "id": "31722708-209a-4372-861b-6aedb850cf64"
   },
   "source": [
    "https://www.kaggle.com/datasets/blastchar/telco-customer-churn/data"
   ]
  },
  {
   "cell_type": "markdown",
   "id": "4ae5b837-e8be-490c-8182-57bc02bdf4f0",
   "metadata": {
    "id": "4ae5b837-e8be-490c-8182-57bc02bdf4f0"
   },
   "source": [
    "# Importing Libraries:"
   ]
  },
  {
   "cell_type": "code",
   "execution_count": 78,
   "id": "cc454613-dbab-495f-aa9d-60b3f8cdca81",
   "metadata": {
    "id": "cc454613-dbab-495f-aa9d-60b3f8cdca81"
   },
   "outputs": [],
   "source": [
    "import numpy as np\n",
    "import pandas as pd\n",
    "import seaborn as sns\n",
    "import matplotlib.pyplot as plt\n",
    "import math\n",
    "import itertools\n",
    "import scipy.stats as stats\n",
    "from sklearn import preprocessing\n",
    "from sklearn.preprocessing import StandardScaler\n",
    "from sklearn.decomposition import PCA\n",
    "from sklearn.cluster import KMeans\n",
    "from sklearn.preprocessing import LabelEncoder, OneHotEncoder\n",
    "from matplotlib import colors\n",
    "from sklearn.model_selection import train_test_split\n",
    "from sklearn.linear_model import LogisticRegression\n",
    "from sklearn.linear_model import LinearRegression\n",
    "from scipy import stats\n",
    "from sklearn.metrics import accuracy_score, precision_score, recall_score, f1_score, confusion_matrix, roc_curve, auc"
   ]
  },
  {
   "cell_type": "code",
   "execution_count": 79,
   "id": "fb35572a-8f67-4fbc-9b21-27a1d3016086",
   "metadata": {
    "colab": {
     "base_uri": "https://localhost:8080/",
     "height": 342
    },
    "id": "fb35572a-8f67-4fbc-9b21-27a1d3016086",
    "outputId": "26076c12-2580-4cd6-aef1-c3c42374ea3d"
   },
   "outputs": [
    {
     "data": {
      "text/html": [
       "<div>\n",
       "<style scoped>\n",
       "    .dataframe tbody tr th:only-of-type {\n",
       "        vertical-align: middle;\n",
       "    }\n",
       "\n",
       "    .dataframe tbody tr th {\n",
       "        vertical-align: top;\n",
       "    }\n",
       "\n",
       "    .dataframe thead th {\n",
       "        text-align: right;\n",
       "    }\n",
       "</style>\n",
       "<table border=\"1\" class=\"dataframe\">\n",
       "  <thead>\n",
       "    <tr style=\"text-align: right;\">\n",
       "      <th></th>\n",
       "      <th>customerID</th>\n",
       "      <th>gender</th>\n",
       "      <th>SeniorCitizen</th>\n",
       "      <th>Partner</th>\n",
       "      <th>Dependents</th>\n",
       "      <th>tenure</th>\n",
       "      <th>PhoneService</th>\n",
       "      <th>MultipleLines</th>\n",
       "      <th>InternetService</th>\n",
       "      <th>OnlineSecurity</th>\n",
       "      <th>...</th>\n",
       "      <th>DeviceProtection</th>\n",
       "      <th>TechSupport</th>\n",
       "      <th>StreamingTV</th>\n",
       "      <th>StreamingMovies</th>\n",
       "      <th>Contract</th>\n",
       "      <th>PaperlessBilling</th>\n",
       "      <th>PaymentMethod</th>\n",
       "      <th>MonthlyCharges</th>\n",
       "      <th>TotalCharges</th>\n",
       "      <th>Churn</th>\n",
       "    </tr>\n",
       "  </thead>\n",
       "  <tbody>\n",
       "    <tr>\n",
       "      <th>0</th>\n",
       "      <td>7590-VHVEG</td>\n",
       "      <td>Female</td>\n",
       "      <td>0</td>\n",
       "      <td>Yes</td>\n",
       "      <td>No</td>\n",
       "      <td>1</td>\n",
       "      <td>No</td>\n",
       "      <td>No phone service</td>\n",
       "      <td>DSL</td>\n",
       "      <td>No</td>\n",
       "      <td>...</td>\n",
       "      <td>No</td>\n",
       "      <td>No</td>\n",
       "      <td>No</td>\n",
       "      <td>No</td>\n",
       "      <td>Month-to-month</td>\n",
       "      <td>Yes</td>\n",
       "      <td>Electronic check</td>\n",
       "      <td>29.85</td>\n",
       "      <td>29.85</td>\n",
       "      <td>No</td>\n",
       "    </tr>\n",
       "    <tr>\n",
       "      <th>1</th>\n",
       "      <td>5575-GNVDE</td>\n",
       "      <td>Male</td>\n",
       "      <td>0</td>\n",
       "      <td>No</td>\n",
       "      <td>No</td>\n",
       "      <td>34</td>\n",
       "      <td>Yes</td>\n",
       "      <td>No</td>\n",
       "      <td>DSL</td>\n",
       "      <td>Yes</td>\n",
       "      <td>...</td>\n",
       "      <td>Yes</td>\n",
       "      <td>No</td>\n",
       "      <td>No</td>\n",
       "      <td>No</td>\n",
       "      <td>One year</td>\n",
       "      <td>No</td>\n",
       "      <td>Mailed check</td>\n",
       "      <td>56.95</td>\n",
       "      <td>1889.5</td>\n",
       "      <td>No</td>\n",
       "    </tr>\n",
       "    <tr>\n",
       "      <th>2</th>\n",
       "      <td>3668-QPYBK</td>\n",
       "      <td>Male</td>\n",
       "      <td>0</td>\n",
       "      <td>No</td>\n",
       "      <td>No</td>\n",
       "      <td>2</td>\n",
       "      <td>Yes</td>\n",
       "      <td>No</td>\n",
       "      <td>DSL</td>\n",
       "      <td>Yes</td>\n",
       "      <td>...</td>\n",
       "      <td>No</td>\n",
       "      <td>No</td>\n",
       "      <td>No</td>\n",
       "      <td>No</td>\n",
       "      <td>Month-to-month</td>\n",
       "      <td>Yes</td>\n",
       "      <td>Mailed check</td>\n",
       "      <td>53.85</td>\n",
       "      <td>108.15</td>\n",
       "      <td>Yes</td>\n",
       "    </tr>\n",
       "    <tr>\n",
       "      <th>3</th>\n",
       "      <td>7795-CFOCW</td>\n",
       "      <td>Male</td>\n",
       "      <td>0</td>\n",
       "      <td>No</td>\n",
       "      <td>No</td>\n",
       "      <td>45</td>\n",
       "      <td>No</td>\n",
       "      <td>No phone service</td>\n",
       "      <td>DSL</td>\n",
       "      <td>Yes</td>\n",
       "      <td>...</td>\n",
       "      <td>Yes</td>\n",
       "      <td>Yes</td>\n",
       "      <td>No</td>\n",
       "      <td>No</td>\n",
       "      <td>One year</td>\n",
       "      <td>No</td>\n",
       "      <td>Bank transfer (automatic)</td>\n",
       "      <td>42.30</td>\n",
       "      <td>1840.75</td>\n",
       "      <td>No</td>\n",
       "    </tr>\n",
       "    <tr>\n",
       "      <th>4</th>\n",
       "      <td>9237-HQITU</td>\n",
       "      <td>Female</td>\n",
       "      <td>0</td>\n",
       "      <td>No</td>\n",
       "      <td>No</td>\n",
       "      <td>2</td>\n",
       "      <td>Yes</td>\n",
       "      <td>No</td>\n",
       "      <td>Fiber optic</td>\n",
       "      <td>No</td>\n",
       "      <td>...</td>\n",
       "      <td>No</td>\n",
       "      <td>No</td>\n",
       "      <td>No</td>\n",
       "      <td>No</td>\n",
       "      <td>Month-to-month</td>\n",
       "      <td>Yes</td>\n",
       "      <td>Electronic check</td>\n",
       "      <td>70.70</td>\n",
       "      <td>151.65</td>\n",
       "      <td>Yes</td>\n",
       "    </tr>\n",
       "  </tbody>\n",
       "</table>\n",
       "<p>5 rows × 21 columns</p>\n",
       "</div>"
      ],
      "text/plain": [
       "   customerID  gender  SeniorCitizen Partner Dependents  tenure PhoneService  \\\n",
       "0  7590-VHVEG  Female              0     Yes         No       1           No   \n",
       "1  5575-GNVDE    Male              0      No         No      34          Yes   \n",
       "2  3668-QPYBK    Male              0      No         No       2          Yes   \n",
       "3  7795-CFOCW    Male              0      No         No      45           No   \n",
       "4  9237-HQITU  Female              0      No         No       2          Yes   \n",
       "\n",
       "      MultipleLines InternetService OnlineSecurity  ... DeviceProtection  \\\n",
       "0  No phone service             DSL             No  ...               No   \n",
       "1                No             DSL            Yes  ...              Yes   \n",
       "2                No             DSL            Yes  ...               No   \n",
       "3  No phone service             DSL            Yes  ...              Yes   \n",
       "4                No     Fiber optic             No  ...               No   \n",
       "\n",
       "  TechSupport StreamingTV StreamingMovies        Contract PaperlessBilling  \\\n",
       "0          No          No              No  Month-to-month              Yes   \n",
       "1          No          No              No        One year               No   \n",
       "2          No          No              No  Month-to-month              Yes   \n",
       "3         Yes          No              No        One year               No   \n",
       "4          No          No              No  Month-to-month              Yes   \n",
       "\n",
       "               PaymentMethod MonthlyCharges  TotalCharges Churn  \n",
       "0           Electronic check          29.85         29.85    No  \n",
       "1               Mailed check          56.95        1889.5    No  \n",
       "2               Mailed check          53.85        108.15   Yes  \n",
       "3  Bank transfer (automatic)          42.30       1840.75    No  \n",
       "4           Electronic check          70.70        151.65   Yes  \n",
       "\n",
       "[5 rows x 21 columns]"
      ]
     },
     "execution_count": 79,
     "metadata": {},
     "output_type": "execute_result"
    }
   ],
   "source": [
    "# Loading the Dataset\n",
    "df = pd.read_csv('WA_Fn-UseC_-Telco-Customer-Churn.csv')\n",
    "df.head()"
   ]
  },
  {
   "cell_type": "markdown",
   "id": "2026d0da-6924-442f-b502-124d2ceb9c6f",
   "metadata": {
    "id": "2026d0da-6924-442f-b502-124d2ceb9c6f"
   },
   "source": [
    "The DataFrame contains telecommunications customer data with 7043 entries and 21 columns, comprising various categorical and numerical attributes such as customer demographics, services used, contract details, and billing information. Notably, the TotalCharges column is listed as an object type, potentially requiring conversion for numerical analysis.\n",
    "\n",
    "\n",
    "\n",
    "\n",
    "\n"
   ]
  },
  {
   "cell_type": "code",
   "execution_count": 80,
   "id": "e765e44c-e2c1-469b-a8c8-2a1fd5e4f18e",
   "metadata": {
    "colab": {
     "base_uri": "https://localhost:8080/"
    },
    "id": "e765e44c-e2c1-469b-a8c8-2a1fd5e4f18e",
    "outputId": "1aeac178-64f6-4b4c-9c89-2cdc54833b3d"
   },
   "outputs": [
    {
     "name": "stdout",
     "output_type": "stream",
     "text": [
      "<class 'pandas.core.frame.DataFrame'>\n",
      "RangeIndex: 7043 entries, 0 to 7042\n",
      "Data columns (total 21 columns):\n",
      " #   Column            Non-Null Count  Dtype  \n",
      "---  ------            --------------  -----  \n",
      " 0   customerID        7043 non-null   object \n",
      " 1   gender            7043 non-null   object \n",
      " 2   SeniorCitizen     7043 non-null   int64  \n",
      " 3   Partner           7043 non-null   object \n",
      " 4   Dependents        7043 non-null   object \n",
      " 5   tenure            7043 non-null   int64  \n",
      " 6   PhoneService      7043 non-null   object \n",
      " 7   MultipleLines     7043 non-null   object \n",
      " 8   InternetService   7043 non-null   object \n",
      " 9   OnlineSecurity    7043 non-null   object \n",
      " 10  OnlineBackup      7043 non-null   object \n",
      " 11  DeviceProtection  7043 non-null   object \n",
      " 12  TechSupport       7043 non-null   object \n",
      " 13  StreamingTV       7043 non-null   object \n",
      " 14  StreamingMovies   7043 non-null   object \n",
      " 15  Contract          7043 non-null   object \n",
      " 16  PaperlessBilling  7043 non-null   object \n",
      " 17  PaymentMethod     7043 non-null   object \n",
      " 18  MonthlyCharges    7043 non-null   float64\n",
      " 19  TotalCharges      7043 non-null   object \n",
      " 20  Churn             7043 non-null   object \n",
      "dtypes: float64(1), int64(2), object(18)\n",
      "memory usage: 1.1+ MB\n"
     ]
    }
   ],
   "source": [
    "# Dataset Information\n",
    "df.info()"
   ]
  },
  {
   "cell_type": "code",
   "execution_count": 81,
   "id": "17a2fabe-105c-4016-9d07-3b34cdf6697e",
   "metadata": {
    "colab": {
     "base_uri": "https://localhost:8080/",
     "height": 300
    },
    "id": "17a2fabe-105c-4016-9d07-3b34cdf6697e",
    "outputId": "9db81b91-97c7-4663-86e2-7d3ab43ca91a"
   },
   "outputs": [
    {
     "data": {
      "text/html": [
       "<div>\n",
       "<style scoped>\n",
       "    .dataframe tbody tr th:only-of-type {\n",
       "        vertical-align: middle;\n",
       "    }\n",
       "\n",
       "    .dataframe tbody tr th {\n",
       "        vertical-align: top;\n",
       "    }\n",
       "\n",
       "    .dataframe thead th {\n",
       "        text-align: right;\n",
       "    }\n",
       "</style>\n",
       "<table border=\"1\" class=\"dataframe\">\n",
       "  <thead>\n",
       "    <tr style=\"text-align: right;\">\n",
       "      <th></th>\n",
       "      <th>SeniorCitizen</th>\n",
       "      <th>tenure</th>\n",
       "      <th>MonthlyCharges</th>\n",
       "    </tr>\n",
       "  </thead>\n",
       "  <tbody>\n",
       "    <tr>\n",
       "      <th>count</th>\n",
       "      <td>7043.000000</td>\n",
       "      <td>7043.000000</td>\n",
       "      <td>7043.000000</td>\n",
       "    </tr>\n",
       "    <tr>\n",
       "      <th>mean</th>\n",
       "      <td>0.162147</td>\n",
       "      <td>32.371149</td>\n",
       "      <td>64.761692</td>\n",
       "    </tr>\n",
       "    <tr>\n",
       "      <th>std</th>\n",
       "      <td>0.368612</td>\n",
       "      <td>24.559481</td>\n",
       "      <td>30.090047</td>\n",
       "    </tr>\n",
       "    <tr>\n",
       "      <th>min</th>\n",
       "      <td>0.000000</td>\n",
       "      <td>0.000000</td>\n",
       "      <td>18.250000</td>\n",
       "    </tr>\n",
       "    <tr>\n",
       "      <th>25%</th>\n",
       "      <td>0.000000</td>\n",
       "      <td>9.000000</td>\n",
       "      <td>35.500000</td>\n",
       "    </tr>\n",
       "    <tr>\n",
       "      <th>50%</th>\n",
       "      <td>0.000000</td>\n",
       "      <td>29.000000</td>\n",
       "      <td>70.350000</td>\n",
       "    </tr>\n",
       "    <tr>\n",
       "      <th>75%</th>\n",
       "      <td>0.000000</td>\n",
       "      <td>55.000000</td>\n",
       "      <td>89.850000</td>\n",
       "    </tr>\n",
       "    <tr>\n",
       "      <th>max</th>\n",
       "      <td>1.000000</td>\n",
       "      <td>72.000000</td>\n",
       "      <td>118.750000</td>\n",
       "    </tr>\n",
       "  </tbody>\n",
       "</table>\n",
       "</div>"
      ],
      "text/plain": [
       "       SeniorCitizen       tenure  MonthlyCharges\n",
       "count    7043.000000  7043.000000     7043.000000\n",
       "mean        0.162147    32.371149       64.761692\n",
       "std         0.368612    24.559481       30.090047\n",
       "min         0.000000     0.000000       18.250000\n",
       "25%         0.000000     9.000000       35.500000\n",
       "50%         0.000000    29.000000       70.350000\n",
       "75%         0.000000    55.000000       89.850000\n",
       "max         1.000000    72.000000      118.750000"
      ]
     },
     "execution_count": 81,
     "metadata": {},
     "output_type": "execute_result"
    }
   ],
   "source": [
    "# Descriptive Statistics\n",
    "df.describe()"
   ]
  },
  {
   "cell_type": "markdown",
   "id": "3bc2d833-6b62-48d4-8d0e-fbed80e9169b",
   "metadata": {
    "id": "3bc2d833-6b62-48d4-8d0e-fbed80e9169b"
   },
   "source": [
    "The SeniorCitizen column indicates that approximately 16% of customers are senior citizens. The tenure column shows that the average customer tenure is around 32 months, with a wide range from 0 to 72 months. For MonthlyCharges, the average monthly charge is approximately $64.76, with a standard deviation of $30.09, indicating some variability in charges among customers."
   ]
  },
  {
   "cell_type": "code",
   "execution_count": 82,
   "id": "56d5b9c7-34f7-4783-9088-dea0b0e31138",
   "metadata": {
    "colab": {
     "base_uri": "https://localhost:8080/"
    },
    "id": "56d5b9c7-34f7-4783-9088-dea0b0e31138",
    "outputId": "2132100c-3040-4d6e-9e39-5360daee2549"
   },
   "outputs": [
    {
     "data": {
      "text/plain": [
       "customerID          0\n",
       "gender              0\n",
       "SeniorCitizen       0\n",
       "Partner             0\n",
       "Dependents          0\n",
       "tenure              0\n",
       "PhoneService        0\n",
       "MultipleLines       0\n",
       "InternetService     0\n",
       "OnlineSecurity      0\n",
       "OnlineBackup        0\n",
       "DeviceProtection    0\n",
       "TechSupport         0\n",
       "StreamingTV         0\n",
       "StreamingMovies     0\n",
       "Contract            0\n",
       "PaperlessBilling    0\n",
       "PaymentMethod       0\n",
       "MonthlyCharges      0\n",
       "TotalCharges        0\n",
       "Churn               0\n",
       "dtype: int64"
      ]
     },
     "execution_count": 82,
     "metadata": {},
     "output_type": "execute_result"
    }
   ],
   "source": [
    "# Checking for null values\n",
    "df.isnull().sum()"
   ]
  },
  {
   "cell_type": "markdown",
   "id": "ed8e2070-0810-4fa2-a4fd-260809d82b41",
   "metadata": {
    "id": "ed8e2070-0810-4fa2-a4fd-260809d82b41"
   },
   "source": [
    "The provided DataFrame, consisting of 7,043 customer entries across 21 attributes, is fully prepared for analysis, with no missing values evident. This comprehensive dataset includes demographic, service, and billing information, all of which are crucial for understanding customer churn in a telecom service context.\n",
    "\n"
   ]
  },
  {
   "cell_type": "code",
   "execution_count": 83,
   "id": "fe20f07f-fa6b-4cde-b542-463864662154",
   "metadata": {
    "id": "fe20f07f-fa6b-4cde-b542-463864662154"
   },
   "outputs": [],
   "source": [
    "import pandas as pd\n",
    "\n",
    "def explore_data(data):\n",
    "    \"\"\"\n",
    "    Explores the dataset by displaying major moments, correlation matrix, and basic statistics.\n",
    "\n",
    "    Parameters:\n",
    "        data (DataFrame): Input dataset.\n",
    "\n",
    "    Returns:\n",
    "        None\n",
    "    \"\"\"\n",
    "    # Filter the data to include only numeric columns\n",
    "    numeric_data = data.select_dtypes(include=[np.number])\n",
    "\n",
    "    # Display major moments only for numeric data\n",
    "    moments = pd.DataFrame({\n",
    "        'Mean': numeric_data.mean(),\n",
    "        'Median': numeric_data.median(),\n",
    "        'Standard Deviation': numeric_data.std(),\n",
    "        'Skewness': numeric_data.skew(),\n",
    "        'Kurtosis': numeric_data.kurtosis()\n",
    "    })\n",
    "    print(\"Major Moments:\")\n",
    "    print(moments)\n",
    "    print(\"\\n\")\n"
   ]
  },
  {
   "cell_type": "markdown",
   "id": "563de730-0ca4-454a-9f35-f58ae709c127",
   "metadata": {
    "id": "563de730-0ca4-454a-9f35-f58ae709c127"
   },
   "source": [
    "\n",
    "The statistical analysis reveals valuable insights into the distributional characteristics of various features within the dataset. Mean and median values provides an understanding of the central tendency, while standard deviation offers insights into the dispersion of data points around the mean. Skewness and kurtosis shed light on the distribution's symmetry and shape, with positive skewness indicating a right-skewed distribution and negative skewness indicating a left-skewed distribution. Higher kurtosis values suggest heavier tails and sharper peaks, influencing the distribution's overall shape"
   ]
  },
  {
   "cell_type": "code",
   "execution_count": 84,
   "id": "75bcecfc-630a-49f2-ab38-055285e5ba52",
   "metadata": {
    "id": "75bcecfc-630a-49f2-ab38-055285e5ba52"
   },
   "outputs": [],
   "source": [
    "def visualize_histograms(dataframe):\n",
    "    \"\"\"\n",
    "    Visualize histograms for each numerical feature in the DataFrame.\n",
    "\n",
    "    Parameters:\n",
    "    dataframe (DataFrame): The input DataFrame containing numerical features.\n",
    "\n",
    "    Returns:\n",
    "    None\n",
    "    \"\"\"\n",
    "    dataframe.hist(figsize=(8, 8))\n",
    "    plt.show()\n"
   ]
  },
  {
   "cell_type": "markdown",
   "id": "5bedf513-398f-4e2a-89be-69cf68b988f3",
   "metadata": {
    "id": "5bedf513-398f-4e2a-89be-69cf68b988f3"
   },
   "source": [
    "From the histograms, we can observe the shape of the distributions, the presence of outliers, and the range of values for each feature. For example, the histogram of \"tenure\" shows that the majority of customers have been with the service provider for a relatively short period, while the histogram of \"MonthlyCharges\" indicates a more varied distribution of monthly charges."
   ]
  },
  {
   "cell_type": "code",
   "execution_count": 85,
   "id": "019b0a78-e0cc-4f25-a5a9-1b3c6133d7cc",
   "metadata": {
    "colab": {
     "base_uri": "https://localhost:8080/",
     "height": 699
    },
    "id": "019b0a78-e0cc-4f25-a5a9-1b3c6133d7cc",
    "outputId": "4e5d263d-f705-4d34-83ce-cbf8a46a9efb"
   },
   "outputs": [
    {
     "data": {
      "image/png": "[encoded data removed]",
      "text/plain": [
       "<Figure size 800x800 with 4 Axes>"
      ]
     },
     "metadata": {},
     "output_type": "display_data"
    }
   ],
   "source": [
    "visualize_histograms(df)"
   ]
  },
  {
   "cell_type": "code",
   "execution_count": 86,
   "id": "87c51968-9e69-4232-b045-5b12f306335f",
   "metadata": {
    "id": "87c51968-9e69-4232-b045-5b12f306335f"
   },
   "outputs": [],
   "source": [
    "def kdeplot(feature):\n",
    "    \"\"\"\n",
    "    Plot Kernel Density Estimation (KDE) for the specified feature, showing the distribution of churned and non-churned customers.\n",
    "\n",
    "    Parameters:\n",
    "    feature (str): The name of the feature for which KDE is to be plotted.\n",
    "\n",
    "    Returns:\n",
    "    None\n",
    "    \"\"\"\n",
    "    plt.figure(figsize=(9, 4))\n",
    "    plt.title(\"KDE for {}\".format(feature))\n",
    "    ax0 = sns.kdeplot(df[df['Churn'] == 'No'][feature].dropna(), color= 'navy', label= 'Churn: No')\n",
    "    ax1 = sns.kdeplot(df[df['Churn'] == 'Yes'][feature].dropna(), color= 'orange', label= 'Churn: Yes')\n"
   ]
  },
  {
   "cell_type": "code",
   "execution_count": 87,
   "id": "d231bbfb-cbc0-486c-805a-58b0509e94fb",
   "metadata": {
    "colab": {
     "base_uri": "https://localhost:8080/",
     "height": 803
    },
    "id": "d231bbfb-cbc0-486c-805a-58b0509e94fb",
    "outputId": "d33ba23b-37c1-422e-9aae-5f70d77ad9b5"
   },
   "outputs": [
    {
     "data": {
      "image/png": "[encoded data removed]",
      "text/plain": [
       "<Figure size 900x400 with 1 Axes>"
      ]
     },
     "metadata": {},
     "output_type": "display_data"
    },
    {
     "data": {
      "image/png": "[encoded data removed]",
      "text/plain": [
       "<Figure size 900x400 with 1 Axes>"
      ]
     },
     "metadata": {},
     "output_type": "display_data"
    }
   ],
   "source": [
    "kdeplot('tenure')\n",
    "kdeplot('MonthlyCharges')\n"
   ]
  },
  {
   "cell_type": "markdown",
   "id": "5d854268-1588-4bf5-bc41-cb117c1c887f",
   "metadata": {
    "id": "5d854268-1588-4bf5-bc41-cb117c1c887f"
   },
   "source": [
    "From the plots above we can conclude that:\n",
    "\n",
    "<li>Recent clients are more likely to churn.</li>\n",
    "<li>Clients with higher MonthlyCharges are also more likely to churn.</li>\n",
    "<li>Tenure and MonthlyCharges are probably important features.</li>"
   ]
  },
  {
   "cell_type": "code",
   "execution_count": 88,
   "id": "27089729-7918-40a5-ba11-13a05cf85618",
   "metadata": {
    "id": "27089729-7918-40a5-ba11-13a05cf85618"
   },
   "outputs": [],
   "source": [
    "def plot_correlation_heatmap(dataframe):\n",
    "    \"\"\"\n",
    "    Plot a heatmap showing the correlation matrix of numerical features in the DataFrame.\n",
    "\n",
    "    Parameters:\n",
    "    dataframe (DataFrame): The input DataFrame containing numerical features.\n",
    "\n",
    "    Returns:\n",
    "    None\n",
    "    \"\"\"\n",
    "    plt.figure(figsize=(8, 6))\n",
    "    numeric_df = dataframe.select_dtypes(include=['number'])\n",
    "    sns.heatmap(numeric_df.corr(), annot=True)\n",
    "    plt.title('Correlation Matrix')\n",
    "    plt.show()"
   ]
  },
  {
   "cell_type": "code",
   "execution_count": 89,
   "id": "33b10258-28b3-4fe1-8b3f-0952aceb512a",
   "metadata": {
    "colab": {
     "base_uri": "https://localhost:8080/",
     "height": 545
    },
    "id": "33b10258-28b3-4fe1-8b3f-0952aceb512a",
    "outputId": "771f9231-bc3d-4ebb-8d90-04f7644ad351"
   },
   "outputs": [
    {
     "data": {
      "image/png": "[encoded data removed]",
      "text/plain": [
       "<Figure size 800x600 with 2 Axes>"
      ]
     },
     "metadata": {},
     "output_type": "display_data"
    }
   ],
   "source": [
    "plot_correlation_heatmap(df)"
   ]
  },
  {
   "cell_type": "markdown",
   "id": "3ae63912-b217-41d3-8635-82c14163171c",
   "metadata": {
    "id": "3ae63912-b217-41d3-8635-82c14163171c"
   },
   "source": [
    "For instance, there appears to be a moderate positive correlation between 'tenure' and 'MonthlyCharges', which implies that customers with longer tenure tend to have higher monthly charges. Conversely, 'SeniorCitizen' shows relatively weak correlations with other features."
   ]
  },
  {
   "cell_type": "markdown",
   "id": "23e1fd37-386e-44de-87ae-2215c0bfeda9",
   "metadata": {
    "id": "23e1fd37-386e-44de-87ae-2215c0bfeda9"
   },
   "source": [
    "# Data Preprocessing:"
   ]
  },
  {
   "cell_type": "code",
   "execution_count": 90,
   "id": "87711408-144d-479c-882f-223d746b3cbf",
   "metadata": {
    "id": "87711408-144d-479c-882f-223d746b3cbf"
   },
   "outputs": [],
   "source": [
    "# Convert 'TotalCharges' to numeric, coercing errors\n",
    "df['TotalCharges'] = pd.to_numeric(df['TotalCharges'], errors='coerce')\n",
    "\n",
    "# Calculate the mean of 'TotalCharges' after conversion\n",
    "mean_total_charges = df['TotalCharges'].mean()\n",
    "\n",
    "# Fill missing values with the mean in a non-chained, direct way\n",
    "df['TotalCharges'] = df['TotalCharges'].fillna(mean_total_charges)"
   ]
  },
  {
   "cell_type": "code",
   "execution_count": 91,
   "id": "d7f50942-8f18-4d2e-895a-18b259dcc820",
   "metadata": {
    "id": "d7f50942-8f18-4d2e-895a-18b259dcc820"
   },
   "outputs": [],
   "source": [
    "# Encoding\n",
    "le = LabelEncoder()\n",
    "df['Churn'] = le.fit_transform(df['Churn'])"
   ]
  },
  {
   "cell_type": "code",
   "execution_count": 92,
   "id": "5cc8be16-ac99-4ce5-8a60-7604b8d1bb7f",
   "metadata": {
    "id": "5cc8be16-ac99-4ce5-8a60-7604b8d1bb7f"
   },
   "outputs": [],
   "source": [
    "# Scaling\n",
    "scaler = StandardScaler()\n",
    "df[['tenure', 'MonthlyCharges', 'TotalCharges']] = scaler.fit_transform(df[['tenure', 'MonthlyCharges', 'TotalCharges']])"
   ]
  },
  {
   "cell_type": "code",
   "execution_count": 93,
   "id": "23d07f46-0b26-4411-8fd8-8daa75ccde14",
   "metadata": {
    "id": "23d07f46-0b26-4411-8fd8-8daa75ccde14"
   },
   "outputs": [],
   "source": [
    "df['AvgMonthlyBill'] = df['TotalCharges'] / df['tenure']"
   ]
  },
  {
   "cell_type": "code",
   "execution_count": 94,
   "id": "aaf9d865-7aa0-4c96-a7f2-7444747d92f0",
   "metadata": {
    "id": "aaf9d865-7aa0-4c96-a7f2-7444747d92f0"
   },
   "outputs": [],
   "source": [
    "X = df.drop('Churn', axis=1)\n",
    "y = df['Churn']\n",
    "X_train, X_test, y_train, y_test = train_test_split(X, y, test_size=0.25, random_state=42)"
   ]
  },
  {
   "cell_type": "code",
   "execution_count": 95,
   "id": "8b8bd5ef-7436-4ba8-a898-29c010680722",
   "metadata": {
    "id": "8b8bd5ef-7436-4ba8-a898-29c010680722"
   },
   "outputs": [],
   "source": [
    "# Apply one-hot encoding to both training and test datasets to ensure consistency in column numbers\n",
    "X_train_encoded = pd.get_dummies(X_train, drop_first=True)\n",
    "X_test_encoded = pd.get_dummies(X_test, drop_first=True)\n",
    "\n",
    "# It's possible that after encoding, X_train and X_test have different columns\n",
    "# due to different categories present in the training and test set. We'll align them:\n",
    "X_train_encoded, X_test_encoded = X_train_encoded.align(X_test_encoded, join='left', axis=1, fill_value=0)"
   ]
  },
  {
   "cell_type": "code",
   "execution_count": 96,
   "id": "153007a8-88fb-4b01-95a0-7f747f970d52",
   "metadata": {
    "colab": {
     "base_uri": "https://localhost:8080/",
     "height": 478
    },
    "id": "153007a8-88fb-4b01-95a0-7f747f970d52",
    "outputId": "61b3bc16-1d53-40ac-d65b-3a8eeb42ce91"
   },
   "outputs": [
    {
     "data": {
      "text/html": [
       "<div>\n",
       "<style scoped>\n",
       "    .dataframe tbody tr th:only-of-type {\n",
       "        vertical-align: middle;\n",
       "    }\n",
       "\n",
       "    .dataframe tbody tr th {\n",
       "        vertical-align: top;\n",
       "    }\n",
       "\n",
       "    .dataframe thead th {\n",
       "        text-align: right;\n",
       "    }\n",
       "</style>\n",
       "<table border=\"1\" class=\"dataframe\">\n",
       "  <thead>\n",
       "    <tr style=\"text-align: right;\">\n",
       "      <th></th>\n",
       "      <th>SeniorCitizen</th>\n",
       "      <th>tenure</th>\n",
       "      <th>MonthlyCharges</th>\n",
       "      <th>TotalCharges</th>\n",
       "      <th>AvgMonthlyBill</th>\n",
       "      <th>customerID_0003-MKNFE</th>\n",
       "      <th>customerID_0004-TLHLJ</th>\n",
       "      <th>customerID_0011-IGKFF</th>\n",
       "      <th>customerID_0013-EXCHZ</th>\n",
       "      <th>customerID_0013-MHZWF</th>\n",
       "      <th>...</th>\n",
       "      <th>StreamingTV_No internet service</th>\n",
       "      <th>StreamingTV_Yes</th>\n",
       "      <th>StreamingMovies_No internet service</th>\n",
       "      <th>StreamingMovies_Yes</th>\n",
       "      <th>Contract_One year</th>\n",
       "      <th>Contract_Two year</th>\n",
       "      <th>PaperlessBilling_Yes</th>\n",
       "      <th>PaymentMethod_Credit card (automatic)</th>\n",
       "      <th>PaymentMethod_Electronic check</th>\n",
       "      <th>PaymentMethod_Mailed check</th>\n",
       "    </tr>\n",
       "  </thead>\n",
       "  <tbody>\n",
       "    <tr>\n",
       "      <th>6607</th>\n",
       "      <td>0</td>\n",
       "      <td>-1.277445</td>\n",
       "      <td>-1.311546</td>\n",
       "      <td>-0.996980</td>\n",
       "      <td>0.780449</td>\n",
       "      <td>False</td>\n",
       "      <td>False</td>\n",
       "      <td>False</td>\n",
       "      <td>False</td>\n",
       "      <td>False</td>\n",
       "      <td>...</td>\n",
       "      <td>False</td>\n",
       "      <td>False</td>\n",
       "      <td>False</td>\n",
       "      <td>False</td>\n",
       "      <td>False</td>\n",
       "      <td>False</td>\n",
       "      <td>True</td>\n",
       "      <td>False</td>\n",
       "      <td>True</td>\n",
       "      <td>False</td>\n",
       "    </tr>\n",
       "    <tr>\n",
       "      <th>2598</th>\n",
       "      <td>0</td>\n",
       "      <td>-1.033122</td>\n",
       "      <td>0.345265</td>\n",
       "      <td>-0.776347</td>\n",
       "      <td>0.751457</td>\n",
       "      <td>False</td>\n",
       "      <td>False</td>\n",
       "      <td>False</td>\n",
       "      <td>False</td>\n",
       "      <td>False</td>\n",
       "      <td>...</td>\n",
       "      <td>False</td>\n",
       "      <td>False</td>\n",
       "      <td>False</td>\n",
       "      <td>False</td>\n",
       "      <td>False</td>\n",
       "      <td>False</td>\n",
       "      <td>True</td>\n",
       "      <td>False</td>\n",
       "      <td>True</td>\n",
       "      <td>False</td>\n",
       "    </tr>\n",
       "    <tr>\n",
       "      <th>2345</th>\n",
       "      <td>0</td>\n",
       "      <td>-1.155283</td>\n",
       "      <td>-1.486035</td>\n",
       "      <td>-0.970400</td>\n",
       "      <td>0.839967</td>\n",
       "      <td>False</td>\n",
       "      <td>False</td>\n",
       "      <td>False</td>\n",
       "      <td>False</td>\n",
       "      <td>False</td>\n",
       "      <td>...</td>\n",
       "      <td>True</td>\n",
       "      <td>False</td>\n",
       "      <td>True</td>\n",
       "      <td>False</td>\n",
       "      <td>False</td>\n",
       "      <td>False</td>\n",
       "      <td>True</td>\n",
       "      <td>False</td>\n",
       "      <td>False</td>\n",
       "      <td>False</td>\n",
       "    </tr>\n",
       "    <tr>\n",
       "      <th>4093</th>\n",
       "      <td>0</td>\n",
       "      <td>-0.137274</td>\n",
       "      <td>0.373516</td>\n",
       "      <td>-0.030046</td>\n",
       "      <td>0.218879</td>\n",
       "      <td>False</td>\n",
       "      <td>False</td>\n",
       "      <td>False</td>\n",
       "      <td>False</td>\n",
       "      <td>False</td>\n",
       "      <td>...</td>\n",
       "      <td>False</td>\n",
       "      <td>False</td>\n",
       "      <td>False</td>\n",
       "      <td>False</td>\n",
       "      <td>False</td>\n",
       "      <td>False</td>\n",
       "      <td>True</td>\n",
       "      <td>True</td>\n",
       "      <td>False</td>\n",
       "      <td>False</td>\n",
       "    </tr>\n",
       "    <tr>\n",
       "      <th>693</th>\n",
       "      <td>0</td>\n",
       "      <td>-1.196004</td>\n",
       "      <td>0.343603</td>\n",
       "      <td>-0.888628</td>\n",
       "      <td>0.742998</td>\n",
       "      <td>False</td>\n",
       "      <td>False</td>\n",
       "      <td>False</td>\n",
       "      <td>False</td>\n",
       "      <td>False</td>\n",
       "      <td>...</td>\n",
       "      <td>False</td>\n",
       "      <td>False</td>\n",
       "      <td>False</td>\n",
       "      <td>False</td>\n",
       "      <td>False</td>\n",
       "      <td>False</td>\n",
       "      <td>True</td>\n",
       "      <td>True</td>\n",
       "      <td>False</td>\n",
       "      <td>False</td>\n",
       "    </tr>\n",
       "    <tr>\n",
       "      <th>...</th>\n",
       "      <td>...</td>\n",
       "      <td>...</td>\n",
       "      <td>...</td>\n",
       "      <td>...</td>\n",
       "      <td>...</td>\n",
       "      <td>...</td>\n",
       "      <td>...</td>\n",
       "      <td>...</td>\n",
       "      <td>...</td>\n",
       "      <td>...</td>\n",
       "      <td>...</td>\n",
       "      <td>...</td>\n",
       "      <td>...</td>\n",
       "      <td>...</td>\n",
       "      <td>...</td>\n",
       "      <td>...</td>\n",
       "      <td>...</td>\n",
       "      <td>...</td>\n",
       "      <td>...</td>\n",
       "      <td>...</td>\n",
       "      <td>...</td>\n",
       "    </tr>\n",
       "    <tr>\n",
       "      <th>3772</th>\n",
       "      <td>0</td>\n",
       "      <td>-1.277445</td>\n",
       "      <td>1.004999</td>\n",
       "      <td>-0.966206</td>\n",
       "      <td>0.756358</td>\n",
       "      <td>False</td>\n",
       "      <td>False</td>\n",
       "      <td>False</td>\n",
       "      <td>False</td>\n",
       "      <td>False</td>\n",
       "      <td>...</td>\n",
       "      <td>False</td>\n",
       "      <td>True</td>\n",
       "      <td>False</td>\n",
       "      <td>True</td>\n",
       "      <td>False</td>\n",
       "      <td>False</td>\n",
       "      <td>True</td>\n",
       "      <td>False</td>\n",
       "      <td>True</td>\n",
       "      <td>False</td>\n",
       "    </tr>\n",
       "    <tr>\n",
       "      <th>5191</th>\n",
       "      <td>0</td>\n",
       "      <td>-0.381597</td>\n",
       "      <td>0.875378</td>\n",
       "      <td>-0.037530</td>\n",
       "      <td>0.098351</td>\n",
       "      <td>False</td>\n",
       "      <td>False</td>\n",
       "      <td>False</td>\n",
       "      <td>False</td>\n",
       "      <td>False</td>\n",
       "      <td>...</td>\n",
       "      <td>False</td>\n",
       "      <td>True</td>\n",
       "      <td>False</td>\n",
       "      <td>True</td>\n",
       "      <td>False</td>\n",
       "      <td>True</td>\n",
       "      <td>True</td>\n",
       "      <td>True</td>\n",
       "      <td>False</td>\n",
       "      <td>False</td>\n",
       "    </tr>\n",
       "    <tr>\n",
       "      <th>5226</th>\n",
       "      <td>0</td>\n",
       "      <td>-0.829521</td>\n",
       "      <td>-1.449476</td>\n",
       "      <td>-0.873020</td>\n",
       "      <td>1.052439</td>\n",
       "      <td>False</td>\n",
       "      <td>False</td>\n",
       "      <td>False</td>\n",
       "      <td>False</td>\n",
       "      <td>False</td>\n",
       "      <td>...</td>\n",
       "      <td>True</td>\n",
       "      <td>False</td>\n",
       "      <td>True</td>\n",
       "      <td>False</td>\n",
       "      <td>False</td>\n",
       "      <td>False</td>\n",
       "      <td>True</td>\n",
       "      <td>False</td>\n",
       "      <td>True</td>\n",
       "      <td>False</td>\n",
       "    </tr>\n",
       "    <tr>\n",
       "      <th>5390</th>\n",
       "      <td>1</td>\n",
       "      <td>-0.829521</td>\n",
       "      <td>1.152899</td>\n",
       "      <td>-0.478246</td>\n",
       "      <td>0.576533</td>\n",
       "      <td>False</td>\n",
       "      <td>False</td>\n",
       "      <td>False</td>\n",
       "      <td>False</td>\n",
       "      <td>False</td>\n",
       "      <td>...</td>\n",
       "      <td>False</td>\n",
       "      <td>True</td>\n",
       "      <td>False</td>\n",
       "      <td>True</td>\n",
       "      <td>False</td>\n",
       "      <td>False</td>\n",
       "      <td>True</td>\n",
       "      <td>False</td>\n",
       "      <td>True</td>\n",
       "      <td>False</td>\n",
       "    </tr>\n",
       "    <tr>\n",
       "      <th>860</th>\n",
       "      <td>0</td>\n",
       "      <td>-0.259435</td>\n",
       "      <td>-1.494344</td>\n",
       "      <td>-0.806238</td>\n",
       "      <td>3.107664</td>\n",
       "      <td>False</td>\n",
       "      <td>False</td>\n",
       "      <td>False</td>\n",
       "      <td>False</td>\n",
       "      <td>False</td>\n",
       "      <td>...</td>\n",
       "      <td>True</td>\n",
       "      <td>False</td>\n",
       "      <td>True</td>\n",
       "      <td>False</td>\n",
       "      <td>True</td>\n",
       "      <td>False</td>\n",
       "      <td>False</td>\n",
       "      <td>True</td>\n",
       "      <td>False</td>\n",
       "      <td>False</td>\n",
       "    </tr>\n",
       "  </tbody>\n",
       "</table>\n",
       "<p>5282 rows × 5312 columns</p>\n",
       "</div>"
      ],
      "text/plain": [
       "      SeniorCitizen    tenure  MonthlyCharges  TotalCharges  AvgMonthlyBill  \\\n",
       "6607              0 -1.277445       -1.311546     -0.996980        0.780449   \n",
       "2598              0 -1.033122        0.345265     -0.776347        0.751457   \n",
       "2345              0 -1.155283       -1.486035     -0.970400        0.839967   \n",
       "4093              0 -0.137274        0.373516     -0.030046        0.218879   \n",
       "693               0 -1.196004        0.343603     -0.888628        0.742998   \n",
       "...             ...       ...             ...           ...             ...   \n",
       "3772              0 -1.277445        1.004999     -0.966206        0.756358   \n",
       "5191              0 -0.381597        0.875378     -0.037530        0.098351   \n",
       "5226              0 -0.829521       -1.449476     -0.873020        1.052439   \n",
       "5390              1 -0.829521        1.152899     -0.478246        0.576533   \n",
       "860               0 -0.259435       -1.494344     -0.806238        3.107664   \n",
       "\n",
       "      customerID_0003-MKNFE  customerID_0004-TLHLJ  customerID_0011-IGKFF  \\\n",
       "6607                  False                  False                  False   \n",
       "2598                  False                  False                  False   \n",
       "2345                  False                  False                  False   \n",
       "4093                  False                  False                  False   \n",
       "693                   False                  False                  False   \n",
       "...                     ...                    ...                    ...   \n",
       "3772                  False                  False                  False   \n",
       "5191                  False                  False                  False   \n",
       "5226                  False                  False                  False   \n",
       "5390                  False                  False                  False   \n",
       "860                   False                  False                  False   \n",
       "\n",
       "      customerID_0013-EXCHZ  customerID_0013-MHZWF  ...  \\\n",
       "6607                  False                  False  ...   \n",
       "2598                  False                  False  ...   \n",
       "2345                  False                  False  ...   \n",
       "4093                  False                  False  ...   \n",
       "693                   False                  False  ...   \n",
       "...                     ...                    ...  ...   \n",
       "3772                  False                  False  ...   \n",
       "5191                  False                  False  ...   \n",
       "5226                  False                  False  ...   \n",
       "5390                  False                  False  ...   \n",
       "860                   False                  False  ...   \n",
       "\n",
       "      StreamingTV_No internet service  StreamingTV_Yes  \\\n",
       "6607                            False            False   \n",
       "2598                            False            False   \n",
       "2345                             True            False   \n",
       "4093                            False            False   \n",
       "693                             False            False   \n",
       "...                               ...              ...   \n",
       "3772                            False             True   \n",
       "5191                            False             True   \n",
       "5226                             True            False   \n",
       "5390                            False             True   \n",
       "860                              True            False   \n",
       "\n",
       "      StreamingMovies_No internet service  StreamingMovies_Yes  \\\n",
       "6607                                False                False   \n",
       "2598                                False                False   \n",
       "2345                                 True                False   \n",
       "4093                                False                False   \n",
       "693                                 False                False   \n",
       "...                                   ...                  ...   \n",
       "3772                                False                 True   \n",
       "5191                                False                 True   \n",
       "5226                                 True                False   \n",
       "5390                                False                 True   \n",
       "860                                  True                False   \n",
       "\n",
       "      Contract_One year  Contract_Two year  PaperlessBilling_Yes  \\\n",
       "6607              False              False                  True   \n",
       "2598              False              False                  True   \n",
       "2345              False              False                  True   \n",
       "4093              False              False                  True   \n",
       "693               False              False                  True   \n",
       "...                 ...                ...                   ...   \n",
       "3772              False              False                  True   \n",
       "5191              False               True                  True   \n",
       "5226              False              False                  True   \n",
       "5390              False              False                  True   \n",
       "860                True              False                 False   \n",
       "\n",
       "      PaymentMethod_Credit card (automatic)  PaymentMethod_Electronic check  \\\n",
       "6607                                  False                            True   \n",
       "2598                                  False                            True   \n",
       "2345                                  False                           False   \n",
       "4093                                   True                           False   \n",
       "693                                    True                           False   \n",
       "...                                     ...                             ...   \n",
       "3772                                  False                            True   \n",
       "5191                                   True                           False   \n",
       "5226                                  False                            True   \n",
       "5390                                  False                            True   \n",
       "860                                    True                           False   \n",
       "\n",
       "      PaymentMethod_Mailed check  \n",
       "6607                       False  \n",
       "2598                       False  \n",
       "2345                       False  \n",
       "4093                       False  \n",
       "693                        False  \n",
       "...                          ...  \n",
       "3772                       False  \n",
       "5191                       False  \n",
       "5226                       False  \n",
       "5390                       False  \n",
       "860                        False  \n",
       "\n",
       "[5282 rows x 5312 columns]"
      ]
     },
     "execution_count": 96,
     "metadata": {},
     "output_type": "execute_result"
    }
   ],
   "source": [
    "X_train_encoded"
   ]
  },
  {
   "cell_type": "markdown",
   "id": "a1223885-69e8-42d6-9d4b-34cbd15554d8",
   "metadata": {
    "id": "a1223885-69e8-42d6-9d4b-34cbd15554d8"
   },
   "source": [
    "# Logistic Regression:"
   ]
  },
  {
   "cell_type": "code",
   "execution_count": 97,
   "id": "74d82ec5-c955-4ead-8eb1-dc020aaf5af5",
   "metadata": {
    "id": "74d82ec5-c955-4ead-8eb1-dc020aaf5af5"
   },
   "outputs": [],
   "source": [
    "def train_logistic_regression(X_train, y_train, X_test, y_test):\n",
    "    \"\"\"\n",
    "    Train a logistic regression model on the provided training data and evaluate it on the test data.\n",
    "\n",
    "    Parameters:\n",
    "    X_train (DataFrame): The features of the training data.\n",
    "    y_train (Series): The target variable of the training data.\n",
    "    X_test (DataFrame): The features of the test data.\n",
    "    y_test (Series): The target variable of the test data.\n",
    "\n",
    "    Returns:\n",
    "    model: Trained Logistic Regression Model\n",
    "    \"\"\"\n",
    "    model = LogisticRegression(max_iter=1000)\n",
    "    model.fit(X_train, y_train)\n",
    "    y_pred = model.predict(X_test)\n",
    "    accuracy = accuracy_score(y_test, y_pred)\n",
    "    print(\"Accuracy:\", accuracy)\n",
    "    return model\n"
   ]
  },
  {
   "cell_type": "code",
   "execution_count": 98,
   "id": "714e86ab-e642-435f-bc7b-2c8817019477",
   "metadata": {
    "colab": {
     "base_uri": "https://localhost:8080/"
    },
    "id": "714e86ab-e642-435f-bc7b-2c8817019477",
    "outputId": "c7e274a8-207f-4657-916f-a63668a8c993"
   },
   "outputs": [
    {
     "name": "stdout",
     "output_type": "stream",
     "text": [
      "Accuracy: 0.8143100511073254\n"
     ]
    }
   ],
   "source": [
    "model = train_logistic_regression(X_train_encoded, y_train, X_test_encoded, y_test)"
   ]
  },
  {
   "cell_type": "markdown",
   "id": "0987721f-772f-4c43-8c23-6fcfd57e56cf",
   "metadata": {
    "id": "0987721f-772f-4c43-8c23-6fcfd57e56cf"
   },
   "source": [
    "The logistic regression model achieved an accuracy of approximately 81.37% on the test data, indicating that it performs reasonably well in predicting the target variable.\n",
    "\n",
    "\n",
    "\n",
    "\n",
    "\n"
   ]
  },
  {
   "cell_type": "code",
   "execution_count": 99,
   "id": "39a75343-bc5b-4f4e-a564-994451cd6f25",
   "metadata": {
    "colab": {
     "base_uri": "https://localhost:8080/",
     "height": 700
    },
    "id": "39a75343-bc5b-4f4e-a564-994451cd6f25",
    "outputId": "b09e83a1-d116-4c3e-f31e-ae37a2a517da"
   },
   "outputs": [
    {
     "name": "stdout",
     "output_type": "stream",
     "text": [
      "Accuracy: 0.81\n",
      "Precision: 0.69\n",
      "Recall: 0.58\n",
      "F1 Score: 0.63\n",
      "Confusion Matrix:\n",
      "[[1155  127]\n",
      " [ 200  279]]\n"
     ]
    },
    {
     "data": {
      "image/png": "[encoded data removed]",
      "text/plain": [
       "<Figure size 600x600 with 2 Axes>"
      ]
     },
     "metadata": {},
     "output_type": "display_data"
    }
   ],
   "source": [
    "# Evaluation\n",
    "# Calculate various metrics\n",
    "y_pred = model.predict(X_test_encoded)\n",
    "accuracy = accuracy_score(y_test, y_pred)\n",
    "precision = precision_score(y_test, y_pred, average='binary')  # Modify average as needed\n",
    "recall = recall_score(y_test, y_pred, average='binary')  # Modify average as needed\n",
    "f1 = f1_score(y_test, y_pred, average='binary')  # Modify average as needed\n",
    "\n",
    "# Print metrics\n",
    "print(f\"Accuracy: {accuracy:.2f}\")\n",
    "print(f\"Precision: {precision:.2f}\")\n",
    "print(f\"Recall: {recall:.2f}\")\n",
    "print(f\"F1 Score: {f1:.2f}\")\n",
    "\n",
    "# Confusion Matrix\n",
    "cm = confusion_matrix(y_test, y_pred)\n",
    "print(\"Confusion Matrix:\")\n",
    "print(cm)\n",
    "\n",
    "# Plotting confusion matrix\n",
    "plt.figure(figsize=(6, 6))\n",
    "plt.imshow(cm, interpolation='nearest', cmap=plt.cm.Blues)\n",
    "plt.title('Confusion Matrix')\n",
    "plt.colorbar()\n",
    "tick_marks = np.arange(2)  # Number of classes\n",
    "plt.xticks(tick_marks, [\"Class 0\", \"Class 1\"], rotation=45)\n",
    "plt.yticks(tick_marks, [\"Class 0\", \"Class 1\"])\n",
    "plt.xlabel('Predicted label')\n",
    "plt.ylabel('True label')\n",
    "plt.grid(False)\n",
    "\n",
    "# Labeling the squares\n",
    "thresh = cm.max() / 2.\n",
    "for i, j in itertools.product(range(cm.shape[0]), range(cm.shape[1])):\n",
    "    plt.text(j, i, format(cm[i, j], 'd'),\n",
    "             horizontalalignment=\"center\",\n",
    "             color=\"white\" if cm[i, j] > thresh else \"black\")\n",
    "\n",
    "plt.tight_layout()\n",
    "plt.show()"
   ]
  },
  {
   "cell_type": "markdown",
   "id": "bf84b22b-e313-43c1-a8a6-466cedf0b5c6",
   "metadata": {
    "id": "bf84b22b-e313-43c1-a8a6-466cedf0b5c6"
   },
   "source": [
    " The confusion matrix provides a breakdown of true negative, false positive, false negative, and true positive predictions, showing 1155 true negatives, 127 false positives, 201 false negatives, and 278 true positives, respectively.\n",
    "\n",
    "\n",
    "\n",
    "\n",
    "\n"
   ]
  },
  {
   "cell_type": "code",
   "execution_count": 100,
   "id": "15849df6-8c02-4375-9531-6286434bcf9d",
   "metadata": {
    "colab": {
     "base_uri": "https://localhost:8080/",
     "height": 564
    },
    "id": "15849df6-8c02-4375-9531-6286434bcf9d",
    "outputId": "f99e67ed-ca04-4fda-f42e-93826ca86954"
   },
   "outputs": [
    {
     "data": {
      "image/png": "[encoded data removed]",
      "text/plain": [
       "<Figure size 800x600 with 1 Axes>"
      ]
     },
     "metadata": {},
     "output_type": "display_data"
    }
   ],
   "source": [
    "# ROC Curve and AUC\n",
    "fpr, tpr, thresholds = roc_curve(y_test, y_pred, pos_label=1)\n",
    "roc_auc = auc(fpr, tpr)\n",
    "\n",
    "# Plotting the ROC curve\n",
    "plt.figure(figsize=(8, 6))\n",
    "plt.plot(fpr, tpr, color='darkorange', lw=2, label=f'ROC curve (area = {roc_auc:.2f})')\n",
    "plt.plot([0, 1], [0, 1], color='navy', lw=2, linestyle='--')\n",
    "plt.xlim([0.0, 1.0])\n",
    "plt.ylim([0.0, 1.05])\n",
    "plt.xlabel('False Positive Rate')\n",
    "plt.ylabel('True Positive Rate')\n",
    "plt.title('Receiver Operating Characteristic')\n",
    "plt.legend(loc=\"lower right\")\n",
    "plt.show()\n"
   ]
  },
  {
   "cell_type": "markdown",
   "id": "37bd2b90-15c8-49e1-885a-4fe0a0d4f5f1",
   "metadata": {
    "id": "37bd2b90-15c8-49e1-885a-4fe0a0d4f5f1"
   },
   "source": [
    "In this case, the ROC curve shows a significant separation from the diagonal line (random guess), with an AUC of approximately 0.77, suggesting that the model has decent discriminative ability. However, there may still be room for improvement, as a perfect classifier would have an AUC of 1."
   ]
  },
  {
   "cell_type": "markdown",
   "id": "c50fc91c-3d8b-4ee4-b1b6-642ebf1d9b2c",
   "metadata": {
    "id": "c50fc91c-3d8b-4ee4-b1b6-642ebf1d9b2c"
   },
   "source": [
    "# Linear Regression:"
   ]
  },
  {
   "cell_type": "code",
   "execution_count": null,
   "id": "aec72b97-dc87-4aa4-917e-8a5ed49e2572",
   "metadata": {
    "colab": {
     "base_uri": "https://localhost:8080/"
    },
    "id": "aec72b97-dc87-4aa4-917e-8a5ed49e2572",
    "outputId": "59bf544a-e11d-4535-b559-faf162a9e64e"
   },
   "outputs": [],
   "source": [
    "def train_linear_regression(X_train, y_train):\n",
    "    \"\"\"\n",
    "    Train a linear regression model using the provided training data.\n",
    "\n",
    "    Parameters:\n",
    "        X_train (array-like or sparse matrix): Training input samples.\n",
    "        y_train (array-like): Target values.\n",
    "\n",
    "    Returns:\n",
    "        model (LinearRegression): Trained linear regression model.\n",
    "    \"\"\"\n",
    "    # Train the linear regression model\n",
    "    model = LinearRegression()\n",
    "    model.fit(X_train, y_train)\n",
    "\n",
    "    # Print the model's coefficients\n",
    "    print(\"Coefficients:\", model.coef_)\n",
    "\n",
    "    # Print the model's intercept\n",
    "    print(\"Intercept:\", model.intercept_)\n",
    "\n",
    "    # Return the trained model\n",
    "    return model\n",
    "\n",
    "model = train_linear_regression(X_train_encoded, y_train)"
   ]
  },
  {
   "cell_type": "code",
   "execution_count": null,
   "id": "73758cb3-3adf-45c4-8605-74ded6e2591b",
   "metadata": {
    "colab": {
     "base_uri": "https://localhost:8080/",
     "height": 564
    },
    "id": "73758cb3-3adf-45c4-8605-74ded6e2591b",
    "outputId": "6ea524dc-46f0-4ea9-ab1d-ebab696c8189"
   },
   "outputs": [],
   "source": [
    "def plot_predictions(model, X_test, y_test):\n",
    "    \"\"\"\n",
    "    Plot actual vs. predicted values along with confidence intervals and error bars.\n",
    "\n",
    "    Parameters:\n",
    "        model (object): Trained linear regression model.\n",
    "        X_test (DataFrame): Testing features.\n",
    "        y_test (array-like): True labels for the testing data.\n",
    "    \"\"\"\n",
    "    # Make predictions on the test set\n",
    "    y_pred = model.predict(X_test)\n",
    "\n",
    "    # Calculate the confidence interval for predictions\n",
    "    y_pred_mean = y_pred.mean()\n",
    "    y_pred_std = y_pred.std()\n",
    "    confidence = 0.95\n",
    "    n = len(y_pred)\n",
    "    margin_of_error = stats.t.ppf((1 + confidence) / 2, n - 1) * (y_pred_std / np.sqrt(n))\n",
    "    lower_bound = y_pred_mean - margin_of_error\n",
    "    upper_bound = y_pred_mean + margin_of_error\n",
    "\n",
    "    # Plot the predictions\n",
    "    plt.figure(figsize=(10, 6))\n",
    "    sns.scatterplot(x=y_test, y=y_pred, color='blue', alpha=0.5)\n",
    "    plt.plot([min(y_test), max(y_test)], [min(y_test), max(y_test)], linestyle='--', color='red')  # Diagonal line\n",
    "    plt.fill_between([min(y_test), max(y_test)], lower_bound, upper_bound, color='gray', alpha=0.2)  # Confidence interval\n",
    "    plt.xlabel(\"Actual\")\n",
    "    plt.ylabel(\"Predicted\")\n",
    "    plt.title(\"Actual vs. Predicted\")\n",
    "    plt.grid(True)\n",
    "    plt.show()\n",
    "\n",
    "plot_predictions(model, X_test_encoded, y_test)"
   ]
  },
  {
   "cell_type": "markdown",
   "id": "3bca97d2-bc8b-4934-97ea-cf89bbe72d98",
   "metadata": {
    "id": "3bca97d2-bc8b-4934-97ea-cf89bbe72d98"
   },
   "source": [
    "<p>The scatterplot visualizes how well the model's predictions align with the actual values. Ideally, the points should be close to the diagonal line, indicating a strong correlation between actual and predicted values.</p>\n",
    "<p>The gray shaded area represents the confidence interval around the predicted values. This interval provides a range within which we are confident that the true mean value lies.</p>\n",
    "<p>By comparing the actual values to the confidence interval and the diagonal line, we can assess the performance and accuracy of the linear regression model.</p>\n"
   ]
  },
  {
   "cell_type": "markdown",
   "id": "2ca77b15-b292-4433-9c23-f617759098ba",
   "metadata": {
    "id": "2ca77b15-b292-4433-9c23-f617759098ba"
   },
   "source": [
    "# Clustering:"
   ]
  },
  {
   "cell_type": "code",
   "execution_count": null,
   "id": "f45dddc0-e06f-4c96-9e40-b080bd04b6f0",
   "metadata": {
    "colab": {
     "base_uri": "https://localhost:8080/",
     "height": 256
    },
    "id": "f45dddc0-e06f-4c96-9e40-b080bd04b6f0",
    "outputId": "b15633c3-3730-4e3a-8acd-e797808e7e7b"
   },
   "outputs": [],
   "source": [
    "df = df.apply(preprocessing.LabelEncoder().fit_transform)\n",
    "ds = df\n",
    "scaler = StandardScaler()\n",
    "ds = pd.DataFrame(scaler.fit_transform(ds), columns=df.columns)\n",
    "ds.head()"
   ]
  },
  {
   "cell_type": "markdown",
   "id": "f2142144-6981-4b05-9bf8-08bd57eb4468",
   "metadata": {
    "id": "f2142144-6981-4b05-9bf8-08bd57eb4468"
   },
   "source": [
    "As we have 20 features to deal with, it possible our clustering model may not be able to create appropriate customer segments. So we will try to reduce the dimensions of our dataset by using PCA before we pass it to the clustering model.\n",
    "\n"
   ]
  },
  {
   "cell_type": "code",
   "execution_count": null,
   "id": "b9a53595-72ff-41fb-84fb-0bb66d97c624",
   "metadata": {
    "id": "b9a53595-72ff-41fb-84fb-0bb66d97c624"
   },
   "outputs": [],
   "source": [
    "pca = PCA(n_components=3)\n",
    "pca_ds = pd.DataFrame(pca.fit_transform(ds), columns=['comp1', 'comp2', 'comp3'])"
   ]
  },
  {
   "cell_type": "code",
   "execution_count": null,
   "id": "14f7cd7f-840e-465a-8ebe-28e28f832d4f",
   "metadata": {
    "colab": {
     "base_uri": "https://localhost:8080/",
     "height": 554
    },
    "id": "14f7cd7f-840e-465a-8ebe-28e28f832d4f",
    "outputId": "c12e0bf8-6bb5-400f-8976-b58fc7f637b8"
   },
   "outputs": [],
   "source": [
    "#Plot dataset\n",
    "x = pca_ds['comp1']\n",
    "y = pca_ds['comp2']\n",
    "z = pca_ds['comp3']\n",
    "cmap = colors.ListedColormap([\"#C1106F\", \"#1710C1\", \"#10C118\", \"#E08D03\"])\n",
    "fig = plt.figure(figsize=(6,6))\n",
    "ax = fig.add_subplot(111, projection=\"3d\")\n",
    "ax.scatter(x,y,z, marker=\".\", cmap=cmap)\n",
    "plt.show()"
   ]
  },
  {
   "cell_type": "markdown",
   "id": "7fe19c5c-1e51-47d4-83c9-2a57b330311b",
   "metadata": {
    "id": "7fe19c5c-1e51-47d4-83c9-2a57b330311b"
   },
   "source": [
    "After performing PCA (3 principle components) we will apply KMean clustering to group/create clusters of data points based on similar characteristics. To decide the no. of clusters to split our dataset (K value) we will use the most common Elbow Method.\n",
    "\n"
   ]
  },
  {
   "cell_type": "code",
   "execution_count": null,
   "id": "f4f5de03-801c-41c7-ab6f-a0bb88c68a5f",
   "metadata": {
    "id": "f4f5de03-801c-41c7-ab6f-a0bb88c68a5f"
   },
   "outputs": [],
   "source": [
    "def plot_elbow_method(data, max_clusters=10):\n",
    "    \"\"\"\n",
    "    Plot the elbow method to determine the optimal number of clusters.\n",
    "\n",
    "    Parameters:\n",
    "    data (array-like): The input data for clustering.\n",
    "    max_clusters (int): The maximum number of clusters to consider. Default is 10.\n",
    "\n",
    "    Returns:\n",
    "    None\n",
    "    \"\"\"\n",
    "    distortions = []\n",
    "    K = range(1, max_clusters + 1)\n",
    "    for k in K:\n",
    "        kmeanModel = KMeans(n_clusters=k)\n",
    "        kmeanModel.fit(data)\n",
    "        distortions.append(kmeanModel.inertia_)\n",
    "\n",
    "    plt.figure(figsize=(6, 6))\n",
    "    plt.plot(K, distortions, 'bx-')\n",
    "    plt.xlabel('Number of Clusters (k)')\n",
    "    plt.ylabel('Distortion')\n",
    "    plt.title('The Elbow Method: Optimal Number of Clusters')\n",
    "    plt.show()\n"
   ]
  },
  {
   "cell_type": "code",
   "execution_count": null,
   "id": "d7831cfd-7cc8-4d27-8f8b-7e935a193d89",
   "metadata": {
    "colab": {
     "base_uri": "https://localhost:8080/",
     "height": 931
    },
    "id": "d7831cfd-7cc8-4d27-8f8b-7e935a193d89",
    "outputId": "5a731abb-6d81-45c2-de84-2c332865578e"
   },
   "outputs": [],
   "source": [
    "plot_elbow_method(ds)"
   ]
  },
  {
   "cell_type": "markdown",
   "id": "3b8c557e-a03f-4d11-9e99-7f990c9077c8",
   "metadata": {
    "id": "3b8c557e-a03f-4d11-9e99-7f990c9077c8"
   },
   "source": [
    "Using elbow method we get to know K=4 seems to be the best fit for clustering.\n",
    "\n"
   ]
  },
  {
   "cell_type": "code",
   "execution_count": null,
   "id": "e34fa837-84eb-41f3-950b-5a601e577862",
   "metadata": {
    "id": "e34fa837-84eb-41f3-950b-5a601e577862"
   },
   "outputs": [],
   "source": [
    "def perform_kmeans_clustering(data, n_clusters=4):\n",
    "    \"\"\"\n",
    "    Perform K-means clustering on the provided data and assign cluster labels.\n",
    "\n",
    "    Parameters:\n",
    "    data (DataFrame or array-like): The input data for clustering.\n",
    "    n_clusters (int): The number of clusters to form. Default is 4.\n",
    "\n",
    "    Returns:\n",
    "    DataFrame: The input DataFrame with an additional 'Cluster' column containing the cluster labels.\n",
    "    \"\"\"\n",
    "    kmeans = KMeans(n_clusters=n_clusters, init='k-means++')\n",
    "    y_kmeans = kmeans.fit_predict(data)\n",
    "\n",
    "    if isinstance(data, pd.DataFrame):\n",
    "        data['Cluster'] = y_kmeans\n",
    "    elif isinstance(data, np.ndarray):\n",
    "        data_with_cluster = np.hstack((data, y_kmeans.reshape(-1, 1)))\n",
    "        data_with_cluster = pd.DataFrame(data_with_cluster, columns=list(data.columns) + ['Cluster'])\n",
    "        data_with_cluster['Cluster'] = data_with_cluster['Cluster'].astype(int)\n",
    "        return data_with_cluster\n"
   ]
  },
  {
   "cell_type": "markdown",
   "id": "1dabc85f-2dfc-4841-8588-c799d66997b9",
   "metadata": {
    "id": "1dabc85f-2dfc-4841-8588-c799d66997b9"
   },
   "source": [
    "This function performs K-means clustering on the provided data and assigns cluster labels. It returns the DataFrame with an additional 'Cluster' column containing the cluster labels.\n",
    "\n",
    "\n",
    "\n",
    "\n"
   ]
  },
  {
   "cell_type": "code",
   "execution_count": null,
   "id": "232b4e6b-b268-4393-ac2f-74d8825d1b6d",
   "metadata": {
    "colab": {
     "base_uri": "https://localhost:8080/"
    },
    "id": "232b4e6b-b268-4393-ac2f-74d8825d1b6d",
    "outputId": "948b35d4-ac90-431d-e206-944da61a61f9"
   },
   "outputs": [],
   "source": [
    "clustered_data=perform_kmeans_clustering(ds)"
   ]
  },
  {
   "cell_type": "code",
   "execution_count": null,
   "id": "871b9202-e1fa-47f6-bf2e-da8ab588940f",
   "metadata": {
    "id": "871b9202-e1fa-47f6-bf2e-da8ab588940f"
   },
   "outputs": [],
   "source": [
    "def visualize_cluster_scatterplot(dataframe):\n",
    "    \"\"\"\n",
    "    Visualize a scatterplot of two features colored by cluster.\n",
    "\n",
    "    Parameters:\n",
    "    dataframe (DataFrame): The input DataFrame containing the data.\n",
    "    x_feature (str): The name of the feature to be plotted on the x-axis.\n",
    "    y_feature (str): The name of the feature to be plotted on the y-axis.\n",
    "    cluster_column (str): The name of the column containing cluster labels.\n",
    "\n",
    "    Returns:\n",
    "    None\n",
    "    \"\"\"\n",
    "    plt.figure(figsize=(8, 7))\n",
    "    sns.scatterplot(data = ds,x=ds[\"TotalCharges\"], y=ds[\"tenure\"],hue=ds[\"Cluster\"])\n",
    "    plt.xlabel(\"TotalCharges\")\n",
    "    plt.ylabel(\"Tenure\")\n",
    "    plt.title('Clustering')\n",
    "    plt.legend(loc='upper left')\n",
    "    plt.show()\n"
   ]
  },
  {
   "cell_type": "code",
   "execution_count": null,
   "id": "2bd1ecf1-adf8-452e-95a1-3262517585b6",
   "metadata": {
    "colab": {
     "base_uri": "https://localhost:8080/",
     "height": 641
    },
    "id": "2bd1ecf1-adf8-452e-95a1-3262517585b6",
    "outputId": "5ba9eaea-9d3a-4d6f-8d5c-cac89de84832"
   },
   "outputs": [],
   "source": [
    "visualize_cluster_scatterplot(ds)"
   ]
  },
  {
   "cell_type": "markdown",
   "id": "55365929-04b0-42e7-8163-4217518405e1",
   "metadata": {
    "id": "55365929-04b0-42e7-8163-4217518405e1"
   },
   "source": [
    "The scatterplot illustrates the distribution of customers based on their tenure and total charges, with distinct clusters visible. Each cluster likely represents a different segment of customers with varying levels of tenure and total charges"
   ]
  },
  {
   "cell_type": "code",
   "execution_count": null,
   "id": "d333be29-c99c-4516-b0c9-98d0d2e25396",
   "metadata": {
    "id": "d333be29-c99c-4516-b0c9-98d0d2e25396"
   },
   "outputs": [],
   "source": []
  }
 ],
 "metadata": {
  "colab": {
   "provenance": []
  },
  "kernelspec": {
   "display_name": "Python 3",
   "language": "python",
   "name": "python3"
  },
  "language_info": {
   "codemirror_mode": {
    "name": "ipython",
    "version": 3
   },
   "file_extension": ".py",
   "mimetype": "text/x-python",
   "name": "python",
   "nbconvert_exporter": "python",
   "pygments_lexer": "ipython3",
   "version": "3.11.5"
  }
 },
 "nbformat": 4,
 "nbformat_minor": 5
}
